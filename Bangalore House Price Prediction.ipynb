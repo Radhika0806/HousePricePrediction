{
 "cells": [
  {
   "cell_type": "markdown",
   "id": "5c816fbd",
   "metadata": {},
   "source": [
    "# Project: Bangalore House Price Prediction Model"
   ]
  },
  {
   "cell_type": "code",
   "execution_count": 1,
   "id": "ab24b796",
   "metadata": {},
   "outputs": [],
   "source": [
    "# Importing necessary libraries\n",
    "\n",
    "import pandas as pd\n",
    "import numpy as np\n",
    "import matplotlib.pyplot as plt\n",
    "import seaborn as sns\n",
    "import warnings\n",
    "import re\n",
    "warnings.filterwarnings(\"ignore\")"
   ]
  },
  {
   "cell_type": "code",
   "execution_count": 2,
   "id": "20e70b2c",
   "metadata": {},
   "outputs": [],
   "source": [
    "# reading the excel dataset\n",
    "\n",
    "df = pd.read_excel(\"final_processed_data.xlsx\")"
   ]
  },
  {
   "cell_type": "code",
   "execution_count": 3,
   "id": "aae9402b",
   "metadata": {},
   "outputs": [
    {
     "data": {
      "text/html": [
       "<div>\n",
       "<style scoped>\n",
       "    .dataframe tbody tr th:only-of-type {\n",
       "        vertical-align: middle;\n",
       "    }\n",
       "\n",
       "    .dataframe tbody tr th {\n",
       "        vertical-align: top;\n",
       "    }\n",
       "\n",
       "    .dataframe thead th {\n",
       "        text-align: right;\n",
       "    }\n",
       "</style>\n",
       "<table border=\"1\" class=\"dataframe\">\n",
       "  <thead>\n",
       "    <tr style=\"text-align: right;\">\n",
       "      <th></th>\n",
       "      <th>Unnamed: 0</th>\n",
       "      <th>title</th>\n",
       "      <th>price</th>\n",
       "      <th>size</th>\n",
       "      <th>price_per_sqft</th>\n",
       "      <th>space</th>\n",
       "      <th>city</th>\n",
       "      <th>locality</th>\n",
       "    </tr>\n",
       "  </thead>\n",
       "  <tbody>\n",
       "    <tr>\n",
       "      <th>0</th>\n",
       "      <td>0</td>\n",
       "      <td>3 BHK Apartment in CasaGrand Casagrand Meridian</td>\n",
       "      <td>11800000.0</td>\n",
       "      <td>2037.0</td>\n",
       "      <td>5793.0</td>\n",
       "      <td>3 BHK</td>\n",
       "      <td>Bangalore</td>\n",
       "      <td>CasaGrand Casagrand Meridian</td>\n",
       "    </tr>\n",
       "    <tr>\n",
       "      <th>1</th>\n",
       "      <td>1</td>\n",
       "      <td>2 BHK Apartment in Shree Nandana Elite</td>\n",
       "      <td>5756000.0</td>\n",
       "      <td>1240.0</td>\n",
       "      <td>4642.0</td>\n",
       "      <td>2 BHK</td>\n",
       "      <td>Bangalore</td>\n",
       "      <td>Shree Nandana Elite</td>\n",
       "    </tr>\n",
       "    <tr>\n",
       "      <th>2</th>\n",
       "      <td>2</td>\n",
       "      <td>Residential Plot in Saroj Whispering Winds</td>\n",
       "      <td>3230000.0</td>\n",
       "      <td>2000.0</td>\n",
       "      <td>1615.0</td>\n",
       "      <td>Residential Plot</td>\n",
       "      <td>Bangalore</td>\n",
       "      <td>Saroj Whispering Winds</td>\n",
       "    </tr>\n",
       "    <tr>\n",
       "      <th>3</th>\n",
       "      <td>3</td>\n",
       "      <td>3 BHK Apartment in Navami Landmaark</td>\n",
       "      <td>13300000.0</td>\n",
       "      <td>1641.0</td>\n",
       "      <td>8133.0</td>\n",
       "      <td>3 BHK</td>\n",
       "      <td>Bangalore</td>\n",
       "      <td>Navami Landmaark</td>\n",
       "    </tr>\n",
       "    <tr>\n",
       "      <th>4</th>\n",
       "      <td>4</td>\n",
       "      <td>2 BHK Apartment in V Venture EVA</td>\n",
       "      <td>5532000.0</td>\n",
       "      <td>957.0</td>\n",
       "      <td>5787.0</td>\n",
       "      <td>2 BHK</td>\n",
       "      <td>Bangalore</td>\n",
       "      <td>V Venture EVA</td>\n",
       "    </tr>\n",
       "  </tbody>\n",
       "</table>\n",
       "</div>"
      ],
      "text/plain": [
       "   Unnamed: 0                                            title       price  \\\n",
       "0           0  3 BHK Apartment in CasaGrand Casagrand Meridian  11800000.0   \n",
       "1           1           2 BHK Apartment in Shree Nandana Elite   5756000.0   \n",
       "2           2       Residential Plot in Saroj Whispering Winds   3230000.0   \n",
       "3           3              3 BHK Apartment in Navami Landmaark  13300000.0   \n",
       "4           4                 2 BHK Apartment in V Venture EVA   5532000.0   \n",
       "\n",
       "     size  price_per_sqft             space       city  \\\n",
       "0  2037.0          5793.0             3 BHK  Bangalore   \n",
       "1  1240.0          4642.0             2 BHK  Bangalore   \n",
       "2  2000.0          1615.0  Residential Plot  Bangalore   \n",
       "3  1641.0          8133.0             3 BHK  Bangalore   \n",
       "4   957.0          5787.0             2 BHK  Bangalore   \n",
       "\n",
       "                       locality  \n",
       "0  CasaGrand Casagrand Meridian  \n",
       "1           Shree Nandana Elite  \n",
       "2        Saroj Whispering Winds  \n",
       "3              Navami Landmaark  \n",
       "4                 V Venture EVA  "
      ]
     },
     "execution_count": 3,
     "metadata": {},
     "output_type": "execute_result"
    }
   ],
   "source": [
    "# checking first 5 columns\n",
    "\n",
    "df.head()"
   ]
  },
  {
   "cell_type": "code",
   "execution_count": 4,
   "id": "bd31134c",
   "metadata": {},
   "outputs": [
    {
     "data": {
      "text/html": [
       "<div>\n",
       "<style scoped>\n",
       "    .dataframe tbody tr th:only-of-type {\n",
       "        vertical-align: middle;\n",
       "    }\n",
       "\n",
       "    .dataframe tbody tr th {\n",
       "        vertical-align: top;\n",
       "    }\n",
       "\n",
       "    .dataframe thead th {\n",
       "        text-align: right;\n",
       "    }\n",
       "</style>\n",
       "<table border=\"1\" class=\"dataframe\">\n",
       "  <thead>\n",
       "    <tr style=\"text-align: right;\">\n",
       "      <th></th>\n",
       "      <th>Unnamed: 0</th>\n",
       "      <th>title</th>\n",
       "      <th>price</th>\n",
       "      <th>size</th>\n",
       "      <th>price_per_sqft</th>\n",
       "      <th>space</th>\n",
       "      <th>city</th>\n",
       "      <th>locality</th>\n",
       "    </tr>\n",
       "  </thead>\n",
       "  <tbody>\n",
       "    <tr>\n",
       "      <th>47997</th>\n",
       "      <td>47997</td>\n",
       "      <td>My Home Vihanga 3 BHK Flat  Gachibowli</td>\n",
       "      <td>1.850000e+07</td>\n",
       "      <td>1835.000000</td>\n",
       "      <td>1.008174e+04</td>\n",
       "      <td>3 BHK</td>\n",
       "      <td>Gachibowli</td>\n",
       "      <td>My Home Vihanga</td>\n",
       "    </tr>\n",
       "    <tr>\n",
       "      <th>47998</th>\n",
       "      <td>47998</td>\n",
       "      <td>Pacifica Hillcrest Phase 2 3 BHK Flat  Gachi...</td>\n",
       "      <td>1.270000e+07</td>\n",
       "      <td>2061.000000</td>\n",
       "      <td>6.162057e+03</td>\n",
       "      <td>3 BHK</td>\n",
       "      <td>Gachibowli</td>\n",
       "      <td>Pacifica Hillcrest Phase 2</td>\n",
       "    </tr>\n",
       "    <tr>\n",
       "      <th>47999</th>\n",
       "      <td>47999</td>\n",
       "      <td>Pacifica Hillcrest Phase 1 2 BHK Flat  Gachi...</td>\n",
       "      <td>1.200000e+07</td>\n",
       "      <td>886.000000</td>\n",
       "      <td>1.354402e+04</td>\n",
       "      <td>2 BHK</td>\n",
       "      <td>Gachibowli</td>\n",
       "      <td>Pacifica Hillcrest Phase 1</td>\n",
       "    </tr>\n",
       "    <tr>\n",
       "      <th>48000</th>\n",
       "      <td>48000</td>\n",
       "      <td>Gachibowli County Office Space in IT/SEZ Gac...</td>\n",
       "      <td>4.760000e+09</td>\n",
       "      <td>2048.266082</td>\n",
       "      <td>2.323917e+06</td>\n",
       "      <td>Unknown</td>\n",
       "      <td>Gachibowli</td>\n",
       "      <td>Gachibowli County</td>\n",
       "    </tr>\n",
       "    <tr>\n",
       "      <th>48001</th>\n",
       "      <td>48001</td>\n",
       "      <td>Prestige High Fields 2 BHK Flat  Gachibowli</td>\n",
       "      <td>1.380000e+07</td>\n",
       "      <td>892.000000</td>\n",
       "      <td>1.547085e+04</td>\n",
       "      <td>2 BHK</td>\n",
       "      <td>Gachibowli</td>\n",
       "      <td>Prestige High Fields</td>\n",
       "    </tr>\n",
       "  </tbody>\n",
       "</table>\n",
       "</div>"
      ],
      "text/plain": [
       "       Unnamed: 0                                              title  \\\n",
       "47997       47997            My Home Vihanga 3 BHK Flat  Gachibowli    \n",
       "47998       47998    Pacifica Hillcrest Phase 2 3 BHK Flat  Gachi...   \n",
       "47999       47999    Pacifica Hillcrest Phase 1 2 BHK Flat  Gachi...   \n",
       "48000       48000    Gachibowli County Office Space in IT/SEZ Gac...   \n",
       "48001       48001       Prestige High Fields 2 BHK Flat  Gachibowli    \n",
       "\n",
       "              price         size  price_per_sqft    space        city  \\\n",
       "47997  1.850000e+07  1835.000000    1.008174e+04    3 BHK  Gachibowli   \n",
       "47998  1.270000e+07  2061.000000    6.162057e+03    3 BHK  Gachibowli   \n",
       "47999  1.200000e+07   886.000000    1.354402e+04    2 BHK  Gachibowli   \n",
       "48000  4.760000e+09  2048.266082    2.323917e+06  Unknown  Gachibowli   \n",
       "48001  1.380000e+07   892.000000    1.547085e+04    2 BHK  Gachibowli   \n",
       "\n",
       "                          locality  \n",
       "47997              My Home Vihanga  \n",
       "47998   Pacifica Hillcrest Phase 2  \n",
       "47999   Pacifica Hillcrest Phase 1  \n",
       "48000            Gachibowli County  \n",
       "48001         Prestige High Fields  "
      ]
     },
     "execution_count": 4,
     "metadata": {},
     "output_type": "execute_result"
    }
   ],
   "source": [
    "# checking the last 5 columns\n",
    "\n",
    "df.tail()"
   ]
  },
  {
   "cell_type": "code",
   "execution_count": 5,
   "id": "ce89c49f",
   "metadata": {},
   "outputs": [
    {
     "data": {
      "text/plain": [
       "(48002, 8)"
      ]
     },
     "execution_count": 5,
     "metadata": {},
     "output_type": "execute_result"
    }
   ],
   "source": [
    "# cheking the shape of the dataset\n",
    "\n",
    "df.shape"
   ]
  },
  {
   "cell_type": "code",
   "execution_count": 6,
   "id": "e182dbe0",
   "metadata": {},
   "outputs": [],
   "source": [
    "# removing the unnecessary column Unnamed: 0 and status\n",
    "\n",
    "df = df.drop(['Unnamed: 0'], axis=1)"
   ]
  },
  {
   "cell_type": "code",
   "execution_count": 7,
   "id": "f6bbc790",
   "metadata": {},
   "outputs": [
    {
     "data": {
      "text/html": [
       "<div>\n",
       "<style scoped>\n",
       "    .dataframe tbody tr th:only-of-type {\n",
       "        vertical-align: middle;\n",
       "    }\n",
       "\n",
       "    .dataframe tbody tr th {\n",
       "        vertical-align: top;\n",
       "    }\n",
       "\n",
       "    .dataframe thead th {\n",
       "        text-align: right;\n",
       "    }\n",
       "</style>\n",
       "<table border=\"1\" class=\"dataframe\">\n",
       "  <thead>\n",
       "    <tr style=\"text-align: right;\">\n",
       "      <th></th>\n",
       "      <th>title</th>\n",
       "      <th>price</th>\n",
       "      <th>size</th>\n",
       "      <th>price_per_sqft</th>\n",
       "      <th>space</th>\n",
       "      <th>city</th>\n",
       "      <th>locality</th>\n",
       "    </tr>\n",
       "  </thead>\n",
       "  <tbody>\n",
       "    <tr>\n",
       "      <th>0</th>\n",
       "      <td>3 BHK Apartment in CasaGrand Casagrand Meridian</td>\n",
       "      <td>11800000.0</td>\n",
       "      <td>2037.0</td>\n",
       "      <td>5793.0</td>\n",
       "      <td>3 BHK</td>\n",
       "      <td>Bangalore</td>\n",
       "      <td>CasaGrand Casagrand Meridian</td>\n",
       "    </tr>\n",
       "    <tr>\n",
       "      <th>1</th>\n",
       "      <td>2 BHK Apartment in Shree Nandana Elite</td>\n",
       "      <td>5756000.0</td>\n",
       "      <td>1240.0</td>\n",
       "      <td>4642.0</td>\n",
       "      <td>2 BHK</td>\n",
       "      <td>Bangalore</td>\n",
       "      <td>Shree Nandana Elite</td>\n",
       "    </tr>\n",
       "    <tr>\n",
       "      <th>2</th>\n",
       "      <td>Residential Plot in Saroj Whispering Winds</td>\n",
       "      <td>3230000.0</td>\n",
       "      <td>2000.0</td>\n",
       "      <td>1615.0</td>\n",
       "      <td>Residential Plot</td>\n",
       "      <td>Bangalore</td>\n",
       "      <td>Saroj Whispering Winds</td>\n",
       "    </tr>\n",
       "  </tbody>\n",
       "</table>\n",
       "</div>"
      ],
      "text/plain": [
       "                                             title       price    size  \\\n",
       "0  3 BHK Apartment in CasaGrand Casagrand Meridian  11800000.0  2037.0   \n",
       "1           2 BHK Apartment in Shree Nandana Elite   5756000.0  1240.0   \n",
       "2       Residential Plot in Saroj Whispering Winds   3230000.0  2000.0   \n",
       "\n",
       "   price_per_sqft             space       city                      locality  \n",
       "0          5793.0             3 BHK  Bangalore  CasaGrand Casagrand Meridian  \n",
       "1          4642.0             2 BHK  Bangalore           Shree Nandana Elite  \n",
       "2          1615.0  Residential Plot  Bangalore        Saroj Whispering Winds  "
      ]
     },
     "execution_count": 7,
     "metadata": {},
     "output_type": "execute_result"
    }
   ],
   "source": [
    "df.head(3)"
   ]
  },
  {
   "cell_type": "code",
   "execution_count": 8,
   "id": "c6a27113",
   "metadata": {},
   "outputs": [
    {
     "data": {
      "text/html": [
       "<div>\n",
       "<style scoped>\n",
       "    .dataframe tbody tr th:only-of-type {\n",
       "        vertical-align: middle;\n",
       "    }\n",
       "\n",
       "    .dataframe tbody tr th {\n",
       "        vertical-align: top;\n",
       "    }\n",
       "\n",
       "    .dataframe thead th {\n",
       "        text-align: right;\n",
       "    }\n",
       "</style>\n",
       "<table border=\"1\" class=\"dataframe\">\n",
       "  <thead>\n",
       "    <tr style=\"text-align: right;\">\n",
       "      <th></th>\n",
       "      <th>price</th>\n",
       "      <th>size</th>\n",
       "      <th>price_per_sqft</th>\n",
       "    </tr>\n",
       "  </thead>\n",
       "  <tbody>\n",
       "    <tr>\n",
       "      <th>count</th>\n",
       "      <td>4.800200e+04</td>\n",
       "      <td>4.800200e+04</td>\n",
       "      <td>4.799900e+04</td>\n",
       "    </tr>\n",
       "    <tr>\n",
       "      <th>mean</th>\n",
       "      <td>8.996362e+07</td>\n",
       "      <td>1.895567e+03</td>\n",
       "      <td>4.350742e+04</td>\n",
       "    </tr>\n",
       "    <tr>\n",
       "      <th>std</th>\n",
       "      <td>6.447416e+08</td>\n",
       "      <td>1.115090e+04</td>\n",
       "      <td>2.506093e+05</td>\n",
       "    </tr>\n",
       "    <tr>\n",
       "      <th>min</th>\n",
       "      <td>0.000000e+00</td>\n",
       "      <td>1.000000e+00</td>\n",
       "      <td>0.000000e+00</td>\n",
       "    </tr>\n",
       "    <tr>\n",
       "      <th>25%</th>\n",
       "      <td>5.450000e+06</td>\n",
       "      <td>1.160000e+03</td>\n",
       "      <td>4.500000e+03</td>\n",
       "    </tr>\n",
       "    <tr>\n",
       "      <th>50%</th>\n",
       "      <td>8.500000e+06</td>\n",
       "      <td>1.370000e+03</td>\n",
       "      <td>6.050000e+03</td>\n",
       "    </tr>\n",
       "    <tr>\n",
       "      <th>75%</th>\n",
       "      <td>1.700000e+07</td>\n",
       "      <td>1.849000e+03</td>\n",
       "      <td>8.990000e+03</td>\n",
       "    </tr>\n",
       "    <tr>\n",
       "      <th>max</th>\n",
       "      <td>7.695000e+10</td>\n",
       "      <td>1.350011e+06</td>\n",
       "      <td>2.700000e+07</td>\n",
       "    </tr>\n",
       "  </tbody>\n",
       "</table>\n",
       "</div>"
      ],
      "text/plain": [
       "              price          size  price_per_sqft\n",
       "count  4.800200e+04  4.800200e+04    4.799900e+04\n",
       "mean   8.996362e+07  1.895567e+03    4.350742e+04\n",
       "std    6.447416e+08  1.115090e+04    2.506093e+05\n",
       "min    0.000000e+00  1.000000e+00    0.000000e+00\n",
       "25%    5.450000e+06  1.160000e+03    4.500000e+03\n",
       "50%    8.500000e+06  1.370000e+03    6.050000e+03\n",
       "75%    1.700000e+07  1.849000e+03    8.990000e+03\n",
       "max    7.695000e+10  1.350011e+06    2.700000e+07"
      ]
     },
     "execution_count": 8,
     "metadata": {},
     "output_type": "execute_result"
    }
   ],
   "source": [
    "# getting the overall statistics of our data\n",
    "\n",
    "df.describe()"
   ]
  },
  {
   "cell_type": "code",
   "execution_count": 9,
   "id": "25317af8",
   "metadata": {
    "scrolled": true
   },
   "outputs": [
    {
     "name": "stdout",
     "output_type": "stream",
     "text": [
      "<class 'pandas.core.frame.DataFrame'>\n",
      "RangeIndex: 48002 entries, 0 to 48001\n",
      "Data columns (total 7 columns):\n",
      " #   Column          Non-Null Count  Dtype  \n",
      "---  ------          --------------  -----  \n",
      " 0   title           47999 non-null  object \n",
      " 1   price           48002 non-null  float64\n",
      " 2   size            48002 non-null  float64\n",
      " 3   price_per_sqft  47999 non-null  float64\n",
      " 4   space           48002 non-null  object \n",
      " 5   city            48002 non-null  object \n",
      " 6   locality        48001 non-null  object \n",
      "dtypes: float64(3), object(4)\n",
      "memory usage: 2.6+ MB\n"
     ]
    }
   ],
   "source": [
    "# getting the overall information about the data\n",
    "\n",
    "df.info()"
   ]
  },
  {
   "cell_type": "markdown",
   "id": "595a9ffe",
   "metadata": {},
   "source": [
    "## Data Cleaning and Preprocessing"
   ]
  },
  {
   "cell_type": "code",
   "execution_count": 10,
   "id": "7b8638ea",
   "metadata": {},
   "outputs": [
    {
     "data": {
      "text/plain": [
       "6"
      ]
     },
     "execution_count": 10,
     "metadata": {},
     "output_type": "execute_result"
    }
   ],
   "source": [
    "# checking for duplicates in the data\n",
    "\n",
    "df.duplicated().sum()"
   ]
  },
  {
   "cell_type": "code",
   "execution_count": 11,
   "id": "cd0fb70e",
   "metadata": {},
   "outputs": [],
   "source": [
    "# dropping the duplicated datas\n",
    "\n",
    "df = df.drop_duplicates()"
   ]
  },
  {
   "cell_type": "code",
   "execution_count": 12,
   "id": "c9284591",
   "metadata": {},
   "outputs": [],
   "source": [
    "# resetting the index of the DataFrame\n",
    "\n",
    "df.reset_index(drop=True, inplace=True)"
   ]
  },
  {
   "cell_type": "code",
   "execution_count": 13,
   "id": "ed5b02df",
   "metadata": {},
   "outputs": [
    {
     "data": {
      "text/plain": [
       "0"
      ]
     },
     "execution_count": 13,
     "metadata": {},
     "output_type": "execute_result"
    }
   ],
   "source": [
    "df.duplicated().sum()"
   ]
  },
  {
   "cell_type": "code",
   "execution_count": 14,
   "id": "c13c363d",
   "metadata": {},
   "outputs": [
    {
     "data": {
      "text/plain": [
       "title             3\n",
       "price             0\n",
       "size              0\n",
       "price_per_sqft    3\n",
       "space             0\n",
       "city              0\n",
       "locality          1\n",
       "dtype: int64"
      ]
     },
     "execution_count": 14,
     "metadata": {},
     "output_type": "execute_result"
    }
   ],
   "source": [
    "# checking for null values\n",
    "\n",
    "df.isnull().sum()"
   ]
  },
  {
   "cell_type": "markdown",
   "id": "f45f6cd0",
   "metadata": {},
   "source": [
    "### Note\n",
    "- It is clearly noticable that size, price_per_sqft and status columns have empty data in them.\n",
    "- So we will need to remove those empty data so that our ML model works efficiently"
   ]
  },
  {
   "cell_type": "markdown",
   "id": "4939e06e",
   "metadata": {},
   "source": [
    "### Filling up the null values in the size column"
   ]
  },
  {
   "cell_type": "code",
   "execution_count": 15,
   "id": "7d290cd8",
   "metadata": {},
   "outputs": [],
   "source": [
    "#replacing the \" sqrt\" term from the size column\n",
    "\n",
    "# df['size'] = df['size'].str.replace(' sqft| Sq.Ft.', '')"
   ]
  },
  {
   "cell_type": "code",
   "execution_count": 16,
   "id": "dca85bc9",
   "metadata": {},
   "outputs": [],
   "source": [
    "# df['size']"
   ]
  },
  {
   "cell_type": "code",
   "execution_count": 17,
   "id": "5ded7d4a",
   "metadata": {},
   "outputs": [],
   "source": [
    "# # Convert the column to a numeric data type\n",
    "# df['size'] = pd.to_numeric(df['size'], errors='coerce')\n",
    "\n",
    "# # Calculate the mean, excluding NaN values\n",
    "# column_mean = df['size'].mean(skipna=True)\n",
    "\n",
    "# # Checking the mean value\n",
    "# print(column_mean)"
   ]
  },
  {
   "cell_type": "code",
   "execution_count": 18,
   "id": "047f2fff",
   "metadata": {},
   "outputs": [],
   "source": [
    "# df['size'].fillna(column_mean, inplace=True)"
   ]
  },
  {
   "cell_type": "code",
   "execution_count": 19,
   "id": "ab999c92",
   "metadata": {},
   "outputs": [],
   "source": [
    "# dropping the other null values\n",
    "\n",
    "df = df.dropna()"
   ]
  },
  {
   "cell_type": "code",
   "execution_count": 20,
   "id": "f98a0eaf",
   "metadata": {},
   "outputs": [
    {
     "data": {
      "text/plain": [
       "title             0\n",
       "price             0\n",
       "size              0\n",
       "price_per_sqft    0\n",
       "space             0\n",
       "city              0\n",
       "locality          0\n",
       "dtype: int64"
      ]
     },
     "execution_count": 20,
     "metadata": {},
     "output_type": "execute_result"
    }
   ],
   "source": [
    "df.isnull().sum()"
   ]
  },
  {
   "cell_type": "markdown",
   "id": "c7d2ad0e",
   "metadata": {},
   "source": [
    "### Converting word price to numeric values"
   ]
  },
  {
   "cell_type": "code",
   "execution_count": 21,
   "id": "fdeab7f1",
   "metadata": {},
   "outputs": [],
   "source": [
    "df['price'] = df['price'].astype(str)"
   ]
  },
  {
   "cell_type": "code",
   "execution_count": 22,
   "id": "3f772b47",
   "metadata": {},
   "outputs": [],
   "source": [
    "df['price'] = df['price'].str.replace('₹', '')"
   ]
  },
  {
   "cell_type": "code",
   "execution_count": 23,
   "id": "7e7d64aa",
   "metadata": {},
   "outputs": [],
   "source": [
    "def convert_value(value):\n",
    "    if 'Cr' in value:\n",
    "        return float(value.replace(' Cr', '')) * 10000000\n",
    "    elif 'Lac' in value:\n",
    "        return float(value.replace(' Lac', '')) * 100000\n",
    "    elif 'L' in value:\n",
    "        return float(value.replace(' L', '')) * 100000\n",
    "    elif 'ac' in value:\n",
    "        return float(value.replace('ac', '')) * 100000\n",
    "    elif 'Call for Price' in value:\n",
    "        return float(value.replace('Call for Price', '0')) * 0\n",
    "    elif 'Price on Request' in value:\n",
    "        return float(value.replace('Price on Request', '0')) * 0\n",
    "    else:\n",
    "        return float(value)\n",
    "\n",
    "pd.options.display.float_format = '{:.2f}'.format\n",
    "df['price'] = df['price'].apply(convert_value)"
   ]
  },
  {
   "cell_type": "code",
   "execution_count": 24,
   "id": "ed0964d0",
   "metadata": {},
   "outputs": [
    {
     "data": {
      "text/html": [
       "<div>\n",
       "<style scoped>\n",
       "    .dataframe tbody tr th:only-of-type {\n",
       "        vertical-align: middle;\n",
       "    }\n",
       "\n",
       "    .dataframe tbody tr th {\n",
       "        vertical-align: top;\n",
       "    }\n",
       "\n",
       "    .dataframe thead th {\n",
       "        text-align: right;\n",
       "    }\n",
       "</style>\n",
       "<table border=\"1\" class=\"dataframe\">\n",
       "  <thead>\n",
       "    <tr style=\"text-align: right;\">\n",
       "      <th></th>\n",
       "      <th>title</th>\n",
       "      <th>price</th>\n",
       "      <th>size</th>\n",
       "      <th>price_per_sqft</th>\n",
       "      <th>space</th>\n",
       "      <th>city</th>\n",
       "      <th>locality</th>\n",
       "    </tr>\n",
       "  </thead>\n",
       "  <tbody>\n",
       "    <tr>\n",
       "      <th>0</th>\n",
       "      <td>3 BHK Apartment in CasaGrand Casagrand Meridian</td>\n",
       "      <td>11800000.00</td>\n",
       "      <td>2037.00</td>\n",
       "      <td>5793.00</td>\n",
       "      <td>3 BHK</td>\n",
       "      <td>Bangalore</td>\n",
       "      <td>CasaGrand Casagrand Meridian</td>\n",
       "    </tr>\n",
       "    <tr>\n",
       "      <th>1</th>\n",
       "      <td>2 BHK Apartment in Shree Nandana Elite</td>\n",
       "      <td>5756000.00</td>\n",
       "      <td>1240.00</td>\n",
       "      <td>4642.00</td>\n",
       "      <td>2 BHK</td>\n",
       "      <td>Bangalore</td>\n",
       "      <td>Shree Nandana Elite</td>\n",
       "    </tr>\n",
       "    <tr>\n",
       "      <th>2</th>\n",
       "      <td>Residential Plot in Saroj Whispering Winds</td>\n",
       "      <td>3230000.00</td>\n",
       "      <td>2000.00</td>\n",
       "      <td>1615.00</td>\n",
       "      <td>Residential Plot</td>\n",
       "      <td>Bangalore</td>\n",
       "      <td>Saroj Whispering Winds</td>\n",
       "    </tr>\n",
       "  </tbody>\n",
       "</table>\n",
       "</div>"
      ],
      "text/plain": [
       "                                             title       price    size  \\\n",
       "0  3 BHK Apartment in CasaGrand Casagrand Meridian 11800000.00 2037.00   \n",
       "1           2 BHK Apartment in Shree Nandana Elite  5756000.00 1240.00   \n",
       "2       Residential Plot in Saroj Whispering Winds  3230000.00 2000.00   \n",
       "\n",
       "   price_per_sqft             space       city                      locality  \n",
       "0         5793.00             3 BHK  Bangalore  CasaGrand Casagrand Meridian  \n",
       "1         4642.00             2 BHK  Bangalore           Shree Nandana Elite  \n",
       "2         1615.00  Residential Plot  Bangalore        Saroj Whispering Winds  "
      ]
     },
     "execution_count": 24,
     "metadata": {},
     "output_type": "execute_result"
    }
   ],
   "source": [
    "df.head(3)"
   ]
  },
  {
   "cell_type": "code",
   "execution_count": 25,
   "id": "b1eeb1ae",
   "metadata": {},
   "outputs": [],
   "source": [
    "# df.info()"
   ]
  },
  {
   "cell_type": "markdown",
   "id": "752b3fbb",
   "metadata": {},
   "source": [
    "### Preprocessing the price_per_sqft column of the DataFrame"
   ]
  },
  {
   "cell_type": "code",
   "execution_count": 26,
   "id": "57ee8f03",
   "metadata": {},
   "outputs": [],
   "source": [
    "#removing the unnecessary symbols\n",
    "\n",
    "# df['price_per_sqft'] = df['price_per_sqft'].str.replace(' / sq ft', '')\n",
    "# df['price_per_sqft'] = df['price_per_sqft'].str.replace(' per sqft', '')\n",
    "# df['price_per_sqft'] = df['price_per_sqft'].str.replace('₹', '')\n",
    "# df['price_per_sqft'] = df['price_per_sqft'].str.replace(',', '')"
   ]
  },
  {
   "cell_type": "code",
   "execution_count": 27,
   "id": "6608b30a",
   "metadata": {},
   "outputs": [],
   "source": [
    "#calculating the price_per_sqft to fill in the null values\n",
    "\n",
    "# def calculate_price_per_sqft(row):\n",
    "#     if pd.isna(row['price_per_sqft']):\n",
    "#         if row['price'] == 0:\n",
    "#             return 0\n",
    "#         else:\n",
    "#             return row['price'] / row['size']\n",
    "#     else:\n",
    "#         return row['price_per_sqft']\n",
    "\n",
    "# pd.options.display.float_format = '{:.2f}'.format\n",
    "# df['price_per_sqft'] = df.apply(calculate_price_per_sqft, axis=1)\n"
   ]
  },
  {
   "cell_type": "code",
   "execution_count": 28,
   "id": "573e4812",
   "metadata": {},
   "outputs": [],
   "source": [
    "#converting price_per_sqft to float Dtype\n",
    "\n",
    "# df['price_per_sqft']=df['price_per_sqft'].astype(float)"
   ]
  },
  {
   "cell_type": "markdown",
   "id": "f4ed5a6b",
   "metadata": {},
   "source": [
    "- <b><i> after bringing all the data to the standard format, we will check for duplicates again </i> </b>"
   ]
  },
  {
   "cell_type": "code",
   "execution_count": 29,
   "id": "b0d76e8c",
   "metadata": {},
   "outputs": [
    {
     "data": {
      "text/plain": [
       "0"
      ]
     },
     "execution_count": 29,
     "metadata": {},
     "output_type": "execute_result"
    }
   ],
   "source": [
    "df.duplicated().sum()"
   ]
  },
  {
   "cell_type": "code",
   "execution_count": 30,
   "id": "850d8cc4",
   "metadata": {},
   "outputs": [],
   "source": [
    "# dropping the duplicates\n",
    "df = df.drop_duplicates()"
   ]
  },
  {
   "cell_type": "code",
   "execution_count": 31,
   "id": "b3d2c1fd",
   "metadata": {},
   "outputs": [],
   "source": [
    "# dropping the values for which price is 0\n",
    "\n",
    "df = df.drop(df[df['price'] == 0].index)"
   ]
  },
  {
   "cell_type": "code",
   "execution_count": 32,
   "id": "f4d32c01",
   "metadata": {},
   "outputs": [
    {
     "data": {
      "text/plain": [
       "(47935, 7)"
      ]
     },
     "execution_count": 32,
     "metadata": {},
     "output_type": "execute_result"
    }
   ],
   "source": [
    "df.shape"
   ]
  },
  {
   "cell_type": "code",
   "execution_count": 33,
   "id": "8874805d",
   "metadata": {},
   "outputs": [],
   "source": [
    "df.reset_index(drop=True, inplace=True)"
   ]
  },
  {
   "cell_type": "code",
   "execution_count": 34,
   "id": "f042d8d2",
   "metadata": {},
   "outputs": [
    {
     "data": {
      "text/html": [
       "<div>\n",
       "<style scoped>\n",
       "    .dataframe tbody tr th:only-of-type {\n",
       "        vertical-align: middle;\n",
       "    }\n",
       "\n",
       "    .dataframe tbody tr th {\n",
       "        vertical-align: top;\n",
       "    }\n",
       "\n",
       "    .dataframe thead th {\n",
       "        text-align: right;\n",
       "    }\n",
       "</style>\n",
       "<table border=\"1\" class=\"dataframe\">\n",
       "  <thead>\n",
       "    <tr style=\"text-align: right;\">\n",
       "      <th></th>\n",
       "      <th>title</th>\n",
       "      <th>price</th>\n",
       "      <th>size</th>\n",
       "      <th>price_per_sqft</th>\n",
       "      <th>space</th>\n",
       "      <th>city</th>\n",
       "      <th>locality</th>\n",
       "    </tr>\n",
       "  </thead>\n",
       "  <tbody>\n",
       "    <tr>\n",
       "      <th>47930</th>\n",
       "      <td>My Home Vihanga 3 BHK Flat  Gachibowli</td>\n",
       "      <td>18500000.00</td>\n",
       "      <td>1835.00</td>\n",
       "      <td>10081.74</td>\n",
       "      <td>3 BHK</td>\n",
       "      <td>Gachibowli</td>\n",
       "      <td>My Home Vihanga</td>\n",
       "    </tr>\n",
       "    <tr>\n",
       "      <th>47931</th>\n",
       "      <td>Pacifica Hillcrest Phase 2 3 BHK Flat  Gachi...</td>\n",
       "      <td>12700000.00</td>\n",
       "      <td>2061.00</td>\n",
       "      <td>6162.06</td>\n",
       "      <td>3 BHK</td>\n",
       "      <td>Gachibowli</td>\n",
       "      <td>Pacifica Hillcrest Phase 2</td>\n",
       "    </tr>\n",
       "    <tr>\n",
       "      <th>47932</th>\n",
       "      <td>Pacifica Hillcrest Phase 1 2 BHK Flat  Gachi...</td>\n",
       "      <td>12000000.00</td>\n",
       "      <td>886.00</td>\n",
       "      <td>13544.02</td>\n",
       "      <td>2 BHK</td>\n",
       "      <td>Gachibowli</td>\n",
       "      <td>Pacifica Hillcrest Phase 1</td>\n",
       "    </tr>\n",
       "    <tr>\n",
       "      <th>47933</th>\n",
       "      <td>Gachibowli County Office Space in IT/SEZ Gac...</td>\n",
       "      <td>4760000000.00</td>\n",
       "      <td>2048.27</td>\n",
       "      <td>2323916.82</td>\n",
       "      <td>Unknown</td>\n",
       "      <td>Gachibowli</td>\n",
       "      <td>Gachibowli County</td>\n",
       "    </tr>\n",
       "    <tr>\n",
       "      <th>47934</th>\n",
       "      <td>Prestige High Fields 2 BHK Flat  Gachibowli</td>\n",
       "      <td>13800000.00</td>\n",
       "      <td>892.00</td>\n",
       "      <td>15470.85</td>\n",
       "      <td>2 BHK</td>\n",
       "      <td>Gachibowli</td>\n",
       "      <td>Prestige High Fields</td>\n",
       "    </tr>\n",
       "  </tbody>\n",
       "</table>\n",
       "</div>"
      ],
      "text/plain": [
       "                                                   title         price  \\\n",
       "47930            My Home Vihanga 3 BHK Flat  Gachibowli    18500000.00   \n",
       "47931    Pacifica Hillcrest Phase 2 3 BHK Flat  Gachi...   12700000.00   \n",
       "47932    Pacifica Hillcrest Phase 1 2 BHK Flat  Gachi...   12000000.00   \n",
       "47933    Gachibowli County Office Space in IT/SEZ Gac... 4760000000.00   \n",
       "47934       Prestige High Fields 2 BHK Flat  Gachibowli    13800000.00   \n",
       "\n",
       "         size  price_per_sqft    space        city  \\\n",
       "47930 1835.00        10081.74    3 BHK  Gachibowli   \n",
       "47931 2061.00         6162.06    3 BHK  Gachibowli   \n",
       "47932  886.00        13544.02    2 BHK  Gachibowli   \n",
       "47933 2048.27      2323916.82  Unknown  Gachibowli   \n",
       "47934  892.00        15470.85    2 BHK  Gachibowli   \n",
       "\n",
       "                          locality  \n",
       "47930              My Home Vihanga  \n",
       "47931   Pacifica Hillcrest Phase 2  \n",
       "47932   Pacifica Hillcrest Phase 1  \n",
       "47933            Gachibowli County  \n",
       "47934         Prestige High Fields  "
      ]
     },
     "execution_count": 34,
     "metadata": {},
     "output_type": "execute_result"
    }
   ],
   "source": [
    "df.tail()"
   ]
  },
  {
   "cell_type": "code",
   "execution_count": 35,
   "id": "7fec9f8e",
   "metadata": {},
   "outputs": [],
   "source": [
    "df.drop('title', axis=1, inplace=True)"
   ]
  },
  {
   "cell_type": "markdown",
   "id": "e281c560",
   "metadata": {},
   "source": [
    "### Saving the processed and clean data into another excel sheet"
   ]
  },
  {
   "cell_type": "code",
   "execution_count": 36,
   "id": "b0b671a7",
   "metadata": {},
   "outputs": [],
   "source": [
    "# df.to_excel('ready_for_EDA.xlsx')"
   ]
  },
  {
   "cell_type": "markdown",
   "id": "9c33b9a0",
   "metadata": {},
   "source": [
    "<h1><b>Exploratory Data Analysis</b></h1>"
   ]
  },
  {
   "cell_type": "code",
   "execution_count": 37,
   "id": "5e4a2503",
   "metadata": {},
   "outputs": [],
   "source": [
    "def extract_size(space_value):\n",
    "    if 'BHK' in space_value:\n",
    "        size = space_value.split(' ')[0]\n",
    "        if size.isdigit():\n",
    "            return int(size)\n",
    "        else:\n",
    "            return 0\n",
    "    elif 'Bedroom' in space_value:\n",
    "        size = space_value.split(' ')[0]\n",
    "        if size.isdigit():\n",
    "            return int(size)\n",
    "        else:\n",
    "            return 0\n",
    "    elif 'Residential' in space_value:\n",
    "        return 'Residential'\n",
    "    elif 'Unknown' in space_value:\n",
    "        return 'Unknown'\n",
    "    elif '+ ' in space_value:\n",
    "        return '6+'\n",
    "    else:\n",
    "        return 0"
   ]
  },
  {
   "cell_type": "code",
   "execution_count": 38,
   "id": "a5d48062",
   "metadata": {},
   "outputs": [],
   "source": [
    "df['BHK'] = df['space'].apply(extract_size)"
   ]
  },
  {
   "cell_type": "code",
   "execution_count": 39,
   "id": "1b5d84c8",
   "metadata": {},
   "outputs": [
    {
     "data": {
      "text/plain": [
       "3              15430\n",
       "2              14819\n",
       "Residential     6034\n",
       "4               4299\n",
       "0               3811\n",
       "1               1452\n",
       "5               1162\n",
       "6                421\n",
       "7                203\n",
       "8                165\n",
       "9                 97\n",
       "Unknown           42\n",
       "Name: BHK, dtype: int64"
      ]
     },
     "execution_count": 39,
     "metadata": {},
     "output_type": "execute_result"
    }
   ],
   "source": [
    "df['BHK'].value_counts()"
   ]
  },
  {
   "cell_type": "code",
   "execution_count": 40,
   "id": "74fad5c2",
   "metadata": {},
   "outputs": [
    {
     "data": {
      "text/html": [
       "<div>\n",
       "<style scoped>\n",
       "    .dataframe tbody tr th:only-of-type {\n",
       "        vertical-align: middle;\n",
       "    }\n",
       "\n",
       "    .dataframe tbody tr th {\n",
       "        vertical-align: top;\n",
       "    }\n",
       "\n",
       "    .dataframe thead th {\n",
       "        text-align: right;\n",
       "    }\n",
       "</style>\n",
       "<table border=\"1\" class=\"dataframe\">\n",
       "  <thead>\n",
       "    <tr style=\"text-align: right;\">\n",
       "      <th></th>\n",
       "      <th>price</th>\n",
       "      <th>size</th>\n",
       "      <th>price_per_sqft</th>\n",
       "      <th>space</th>\n",
       "      <th>city</th>\n",
       "      <th>locality</th>\n",
       "      <th>BHK</th>\n",
       "    </tr>\n",
       "  </thead>\n",
       "  <tbody>\n",
       "    <tr>\n",
       "      <th>0</th>\n",
       "      <td>11800000.00</td>\n",
       "      <td>2037.00</td>\n",
       "      <td>5793.00</td>\n",
       "      <td>3 BHK</td>\n",
       "      <td>Bangalore</td>\n",
       "      <td>CasaGrand Casagrand Meridian</td>\n",
       "      <td>3</td>\n",
       "    </tr>\n",
       "    <tr>\n",
       "      <th>1</th>\n",
       "      <td>5756000.00</td>\n",
       "      <td>1240.00</td>\n",
       "      <td>4642.00</td>\n",
       "      <td>2 BHK</td>\n",
       "      <td>Bangalore</td>\n",
       "      <td>Shree Nandana Elite</td>\n",
       "      <td>2</td>\n",
       "    </tr>\n",
       "    <tr>\n",
       "      <th>2</th>\n",
       "      <td>3230000.00</td>\n",
       "      <td>2000.00</td>\n",
       "      <td>1615.00</td>\n",
       "      <td>Residential Plot</td>\n",
       "      <td>Bangalore</td>\n",
       "      <td>Saroj Whispering Winds</td>\n",
       "      <td>Residential</td>\n",
       "    </tr>\n",
       "    <tr>\n",
       "      <th>3</th>\n",
       "      <td>13300000.00</td>\n",
       "      <td>1641.00</td>\n",
       "      <td>8133.00</td>\n",
       "      <td>3 BHK</td>\n",
       "      <td>Bangalore</td>\n",
       "      <td>Navami Landmaark</td>\n",
       "      <td>3</td>\n",
       "    </tr>\n",
       "    <tr>\n",
       "      <th>4</th>\n",
       "      <td>5532000.00</td>\n",
       "      <td>957.00</td>\n",
       "      <td>5787.00</td>\n",
       "      <td>2 BHK</td>\n",
       "      <td>Bangalore</td>\n",
       "      <td>V Venture EVA</td>\n",
       "      <td>2</td>\n",
       "    </tr>\n",
       "  </tbody>\n",
       "</table>\n",
       "</div>"
      ],
      "text/plain": [
       "        price    size  price_per_sqft             space       city  \\\n",
       "0 11800000.00 2037.00         5793.00             3 BHK  Bangalore   \n",
       "1  5756000.00 1240.00         4642.00             2 BHK  Bangalore   \n",
       "2  3230000.00 2000.00         1615.00  Residential Plot  Bangalore   \n",
       "3 13300000.00 1641.00         8133.00             3 BHK  Bangalore   \n",
       "4  5532000.00  957.00         5787.00             2 BHK  Bangalore   \n",
       "\n",
       "                       locality          BHK  \n",
       "0  CasaGrand Casagrand Meridian            3  \n",
       "1           Shree Nandana Elite            2  \n",
       "2        Saroj Whispering Winds  Residential  \n",
       "3              Navami Landmaark            3  \n",
       "4                 V Venture EVA            2  "
      ]
     },
     "execution_count": 40,
     "metadata": {},
     "output_type": "execute_result"
    }
   ],
   "source": [
    "df.head()"
   ]
  },
  {
   "cell_type": "code",
   "execution_count": 42,
   "id": "4f5b79e3",
   "metadata": {},
   "outputs": [
    {
     "data": {
      "image/png": "[encoded data removed]",
      "text/plain": [
       "<Figure size 1296x720 with 1 Axes>"
      ]
     },
     "metadata": {
      "needs_background": "light"
     },
     "output_type": "display_data"
    }
   ],
   "source": [
    "plt.figure(figsize=(18,10))\n",
    "sns.countplot('BHK', data = df, palette = 'hls')\n",
    "plt.xticks(rotation = 90)\n",
    "plt.show()"
   ]
  },
  {
   "cell_type": "code",
   "execution_count": null,
   "id": "02938578",
   "metadata": {},
   "outputs": [],
   "source": []
  }
 ],
 "metadata": {
  "kernelspec": {
   "display_name": "Python 3 (ipykernel)",
   "language": "python",
   "name": "python3"
  },
  "language_info": {
   "codemirror_mode": {
    "name": "ipython",
    "version": 3
   },
   "file_extension": ".py",
   "mimetype": "text/x-python",
   "name": "python",
   "nbconvert_exporter": "python",
   "pygments_lexer": "ipython3",
   "version": "3.9.7"
  }
 },
 "nbformat": 4,
 "nbformat_minor": 5
}
