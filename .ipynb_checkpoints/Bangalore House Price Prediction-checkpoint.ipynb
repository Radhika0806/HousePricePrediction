{
 "cells": [
  {
   "cell_type": "markdown",
   "id": "5c816fbd",
   "metadata": {},
   "source": [
    "# Project: Bangalore House Price Prediction Model"
   ]
  },
  {
   "cell_type": "code",
   "execution_count": 1,
   "id": "ab24b796",
   "metadata": {},
   "outputs": [],
   "source": [
    "# Importing necessary libraries\n",
    "\n",
    "import pandas as pd\n",
    "import numpy as np\n",
    "import matplotlib.pyplot as plt\n",
    "import seaborn as sns\n",
    "import warnings\n",
    "import re\n",
    "warnings.filterwarnings(\"ignore\")"
   ]
  },
  {
   "cell_type": "code",
   "execution_count": 2,
   "id": "20e70b2c",
   "metadata": {},
   "outputs": [],
   "source": [
    "# reading the excel dataset\n",
    "\n",
    "df = pd.read_excel(\"raw_data.xlsx\")"
   ]
  },
  {
   "cell_type": "code",
   "execution_count": 3,
   "id": "aae9402b",
   "metadata": {},
   "outputs": [
    {
     "data": {
      "text/html": [
       "<div>\n",
       "<style scoped>\n",
       "    .dataframe tbody tr th:only-of-type {\n",
       "        vertical-align: middle;\n",
       "    }\n",
       "\n",
       "    .dataframe tbody tr th {\n",
       "        vertical-align: top;\n",
       "    }\n",
       "\n",
       "    .dataframe thead th {\n",
       "        text-align: right;\n",
       "    }\n",
       "</style>\n",
       "<table border=\"1\" class=\"dataframe\">\n",
       "  <thead>\n",
       "    <tr style=\"text-align: right;\">\n",
       "      <th></th>\n",
       "      <th>Unnamed: 0</th>\n",
       "      <th>title</th>\n",
       "      <th>price</th>\n",
       "      <th>size</th>\n",
       "      <th>price_per_sqft</th>\n",
       "      <th>status</th>\n",
       "    </tr>\n",
       "  </thead>\n",
       "  <tbody>\n",
       "    <tr>\n",
       "      <th>0</th>\n",
       "      <td>0</td>\n",
       "      <td>3 BHK Apartment in CasaGrand Casagrand Meridian</td>\n",
       "      <td>1.18 Cr</td>\n",
       "      <td>2037</td>\n",
       "      <td>5,793 / sq ft</td>\n",
       "      <td>Under Construction</td>\n",
       "    </tr>\n",
       "    <tr>\n",
       "      <th>1</th>\n",
       "      <td>1</td>\n",
       "      <td>2 BHK Apartment in Shree Nandana Elite</td>\n",
       "      <td>57.56 L</td>\n",
       "      <td>1240</td>\n",
       "      <td>4,642 / sq ft</td>\n",
       "      <td>Under Construction</td>\n",
       "    </tr>\n",
       "    <tr>\n",
       "      <th>2</th>\n",
       "      <td>2</td>\n",
       "      <td>Residential Plot in Saroj Whispering Winds</td>\n",
       "      <td>32.3 L</td>\n",
       "      <td>2000</td>\n",
       "      <td>1,615 / sq ft</td>\n",
       "      <td>New</td>\n",
       "    </tr>\n",
       "    <tr>\n",
       "      <th>3</th>\n",
       "      <td>3</td>\n",
       "      <td>3 BHK Apartment in Navami Landmaark</td>\n",
       "      <td>1.33 Cr</td>\n",
       "      <td>1641</td>\n",
       "      <td>8,133 / sq ft</td>\n",
       "      <td>Under Construction</td>\n",
       "    </tr>\n",
       "    <tr>\n",
       "      <th>4</th>\n",
       "      <td>4</td>\n",
       "      <td>2 BHK Apartment in V Venture EVA</td>\n",
       "      <td>55.32 L</td>\n",
       "      <td>957</td>\n",
       "      <td>5,787 / sq ft</td>\n",
       "      <td>Ready to move</td>\n",
       "    </tr>\n",
       "  </tbody>\n",
       "</table>\n",
       "</div>"
      ],
      "text/plain": [
       "   Unnamed: 0                                            title     price  \\\n",
       "0           0  3 BHK Apartment in CasaGrand Casagrand Meridian   1.18 Cr   \n",
       "1           1           2 BHK Apartment in Shree Nandana Elite   57.56 L   \n",
       "2           2       Residential Plot in Saroj Whispering Winds    32.3 L   \n",
       "3           3              3 BHK Apartment in Navami Landmaark   1.33 Cr   \n",
       "4           4                 2 BHK Apartment in V Venture EVA   55.32 L   \n",
       "\n",
       "    size price_per_sqft              status  \n",
       "0  2037   5,793 / sq ft  Under Construction  \n",
       "1  1240   4,642 / sq ft  Under Construction  \n",
       "2  2000   1,615 / sq ft                 New  \n",
       "3  1641   8,133 / sq ft  Under Construction  \n",
       "4   957   5,787 / sq ft       Ready to move  "
      ]
     },
     "execution_count": 3,
     "metadata": {},
     "output_type": "execute_result"
    }
   ],
   "source": [
    "# checking first 5 columns\n",
    "\n",
    "df.head()"
   ]
  },
  {
   "cell_type": "code",
   "execution_count": 4,
   "id": "bd31134c",
   "metadata": {},
   "outputs": [
    {
     "data": {
      "text/html": [
       "<div>\n",
       "<style scoped>\n",
       "    .dataframe tbody tr th:only-of-type {\n",
       "        vertical-align: middle;\n",
       "    }\n",
       "\n",
       "    .dataframe tbody tr th {\n",
       "        vertical-align: top;\n",
       "    }\n",
       "\n",
       "    .dataframe thead th {\n",
       "        text-align: right;\n",
       "    }\n",
       "</style>\n",
       "<table border=\"1\" class=\"dataframe\">\n",
       "  <thead>\n",
       "    <tr style=\"text-align: right;\">\n",
       "      <th></th>\n",
       "      <th>Unnamed: 0</th>\n",
       "      <th>title</th>\n",
       "      <th>price</th>\n",
       "      <th>size</th>\n",
       "      <th>price_per_sqft</th>\n",
       "      <th>status</th>\n",
       "    </tr>\n",
       "  </thead>\n",
       "  <tbody>\n",
       "    <tr>\n",
       "      <th>74203</th>\n",
       "      <td>74202</td>\n",
       "      <td>5 Bedroom Built-up  Area in Whitefield</td>\n",
       "      <td>23100000</td>\n",
       "      <td>3453</td>\n",
       "      <td>6689.834926</td>\n",
       "      <td>NaN</td>\n",
       "    </tr>\n",
       "    <tr>\n",
       "      <th>74204</th>\n",
       "      <td>74203</td>\n",
       "      <td>4 BHK Super built-up  Area in Richards Town</td>\n",
       "      <td>40000000</td>\n",
       "      <td>3600</td>\n",
       "      <td>11111.111111</td>\n",
       "      <td>NaN</td>\n",
       "    </tr>\n",
       "    <tr>\n",
       "      <th>74205</th>\n",
       "      <td>74204</td>\n",
       "      <td>2 BHK Built-up  Area in Raja Rajeshwari Nagar</td>\n",
       "      <td>6000000</td>\n",
       "      <td>1141</td>\n",
       "      <td>5258.545136</td>\n",
       "      <td>NaN</td>\n",
       "    </tr>\n",
       "    <tr>\n",
       "      <th>74206</th>\n",
       "      <td>74205</td>\n",
       "      <td>4 BHK Super built-up  Area in Padmanabhanagar</td>\n",
       "      <td>48800000</td>\n",
       "      <td>4689</td>\n",
       "      <td>10407.336319</td>\n",
       "      <td>NaN</td>\n",
       "    </tr>\n",
       "    <tr>\n",
       "      <th>74207</th>\n",
       "      <td>74206</td>\n",
       "      <td>1 BHK Super built-up  Area in Doddathoguru</td>\n",
       "      <td>1700000</td>\n",
       "      <td>550</td>\n",
       "      <td>3090.909091</td>\n",
       "      <td>NaN</td>\n",
       "    </tr>\n",
       "  </tbody>\n",
       "</table>\n",
       "</div>"
      ],
      "text/plain": [
       "       Unnamed: 0                                          title     price  \\\n",
       "74203       74202         5 Bedroom Built-up  Area in Whitefield  23100000   \n",
       "74204       74203    4 BHK Super built-up  Area in Richards Town  40000000   \n",
       "74205       74204  2 BHK Built-up  Area in Raja Rajeshwari Nagar   6000000   \n",
       "74206       74205  4 BHK Super built-up  Area in Padmanabhanagar  48800000   \n",
       "74207       74206     1 BHK Super built-up  Area in Doddathoguru   1700000   \n",
       "\n",
       "       size price_per_sqft status  \n",
       "74203  3453    6689.834926    NaN  \n",
       "74204  3600   11111.111111    NaN  \n",
       "74205  1141    5258.545136    NaN  \n",
       "74206  4689   10407.336319    NaN  \n",
       "74207   550    3090.909091    NaN  "
      ]
     },
     "execution_count": 4,
     "metadata": {},
     "output_type": "execute_result"
    }
   ],
   "source": [
    "# checking the last 5 columns\n",
    "\n",
    "df.tail()"
   ]
  },
  {
   "cell_type": "code",
   "execution_count": 5,
   "id": "ce89c49f",
   "metadata": {},
   "outputs": [
    {
     "data": {
      "text/plain": [
       "(74208, 6)"
      ]
     },
     "execution_count": 5,
     "metadata": {},
     "output_type": "execute_result"
    }
   ],
   "source": [
    "# cheking the shape of the dataset\n",
    "\n",
    "df.shape"
   ]
  },
  {
   "cell_type": "code",
   "execution_count": 6,
   "id": "e182dbe0",
   "metadata": {},
   "outputs": [],
   "source": [
    "# removing the unnecessary column Unnamed: 0 and status\n",
    "\n",
    "df = df.drop(['Unnamed: 0', 'status'], axis=1)"
   ]
  },
  {
   "cell_type": "code",
   "execution_count": 7,
   "id": "f6bbc790",
   "metadata": {},
   "outputs": [
    {
     "data": {
      "text/html": [
       "<div>\n",
       "<style scoped>\n",
       "    .dataframe tbody tr th:only-of-type {\n",
       "        vertical-align: middle;\n",
       "    }\n",
       "\n",
       "    .dataframe tbody tr th {\n",
       "        vertical-align: top;\n",
       "    }\n",
       "\n",
       "    .dataframe thead th {\n",
       "        text-align: right;\n",
       "    }\n",
       "</style>\n",
       "<table border=\"1\" class=\"dataframe\">\n",
       "  <thead>\n",
       "    <tr style=\"text-align: right;\">\n",
       "      <th></th>\n",
       "      <th>title</th>\n",
       "      <th>price</th>\n",
       "      <th>size</th>\n",
       "      <th>price_per_sqft</th>\n",
       "    </tr>\n",
       "  </thead>\n",
       "  <tbody>\n",
       "    <tr>\n",
       "      <th>0</th>\n",
       "      <td>3 BHK Apartment in CasaGrand Casagrand Meridian</td>\n",
       "      <td>1.18 Cr</td>\n",
       "      <td>2037</td>\n",
       "      <td>5,793 / sq ft</td>\n",
       "    </tr>\n",
       "    <tr>\n",
       "      <th>1</th>\n",
       "      <td>2 BHK Apartment in Shree Nandana Elite</td>\n",
       "      <td>57.56 L</td>\n",
       "      <td>1240</td>\n",
       "      <td>4,642 / sq ft</td>\n",
       "    </tr>\n",
       "    <tr>\n",
       "      <th>2</th>\n",
       "      <td>Residential Plot in Saroj Whispering Winds</td>\n",
       "      <td>32.3 L</td>\n",
       "      <td>2000</td>\n",
       "      <td>1,615 / sq ft</td>\n",
       "    </tr>\n",
       "  </tbody>\n",
       "</table>\n",
       "</div>"
      ],
      "text/plain": [
       "                                             title     price   size  \\\n",
       "0  3 BHK Apartment in CasaGrand Casagrand Meridian   1.18 Cr  2037    \n",
       "1           2 BHK Apartment in Shree Nandana Elite   57.56 L  1240    \n",
       "2       Residential Plot in Saroj Whispering Winds    32.3 L  2000    \n",
       "\n",
       "  price_per_sqft  \n",
       "0  5,793 / sq ft  \n",
       "1  4,642 / sq ft  \n",
       "2  1,615 / sq ft  "
      ]
     },
     "execution_count": 7,
     "metadata": {},
     "output_type": "execute_result"
    }
   ],
   "source": [
    "df.head(3)"
   ]
  },
  {
   "cell_type": "code",
   "execution_count": 8,
   "id": "c6a27113",
   "metadata": {},
   "outputs": [
    {
     "data": {
      "text/html": [
       "<div>\n",
       "<style scoped>\n",
       "    .dataframe tbody tr th:only-of-type {\n",
       "        vertical-align: middle;\n",
       "    }\n",
       "\n",
       "    .dataframe tbody tr th {\n",
       "        vertical-align: top;\n",
       "    }\n",
       "\n",
       "    .dataframe thead th {\n",
       "        text-align: right;\n",
       "    }\n",
       "</style>\n",
       "<table border=\"1\" class=\"dataframe\">\n",
       "  <thead>\n",
       "    <tr style=\"text-align: right;\">\n",
       "      <th></th>\n",
       "      <th>title</th>\n",
       "      <th>price</th>\n",
       "      <th>size</th>\n",
       "      <th>price_per_sqft</th>\n",
       "    </tr>\n",
       "  </thead>\n",
       "  <tbody>\n",
       "    <tr>\n",
       "      <th>count</th>\n",
       "      <td>74208</td>\n",
       "      <td>74208</td>\n",
       "      <td>73612</td>\n",
       "      <td>58445</td>\n",
       "    </tr>\n",
       "    <tr>\n",
       "      <th>unique</th>\n",
       "      <td>14196</td>\n",
       "      <td>9190</td>\n",
       "      <td>6560</td>\n",
       "      <td>16775</td>\n",
       "    </tr>\n",
       "    <tr>\n",
       "      <th>top</th>\n",
       "      <td>Residential Plot</td>\n",
       "      <td>Price on Request</td>\n",
       "      <td>1200</td>\n",
       "      <td>5,500 / sq ft</td>\n",
       "    </tr>\n",
       "    <tr>\n",
       "      <th>freq</th>\n",
       "      <td>3294</td>\n",
       "      <td>446</td>\n",
       "      <td>5377</td>\n",
       "      <td>395</td>\n",
       "    </tr>\n",
       "  </tbody>\n",
       "</table>\n",
       "</div>"
      ],
      "text/plain": [
       "                   title             price   size price_per_sqft\n",
       "count              74208             74208  73612          58445\n",
       "unique             14196              9190   6560          16775\n",
       "top     Residential Plot  Price on Request  1200   5,500 / sq ft\n",
       "freq                3294               446   5377            395"
      ]
     },
     "execution_count": 8,
     "metadata": {},
     "output_type": "execute_result"
    }
   ],
   "source": [
    "# getting the overall statistics of our data\n",
    "\n",
    "df.describe()"
   ]
  },
  {
   "cell_type": "code",
   "execution_count": 9,
   "id": "25317af8",
   "metadata": {
    "scrolled": true
   },
   "outputs": [
    {
     "name": "stdout",
     "output_type": "stream",
     "text": [
      "<class 'pandas.core.frame.DataFrame'>\n",
      "RangeIndex: 74208 entries, 0 to 74207\n",
      "Data columns (total 4 columns):\n",
      " #   Column          Non-Null Count  Dtype \n",
      "---  ------          --------------  ----- \n",
      " 0   title           74208 non-null  object\n",
      " 1   price           74208 non-null  object\n",
      " 2   size            73612 non-null  object\n",
      " 3   price_per_sqft  58445 non-null  object\n",
      "dtypes: object(4)\n",
      "memory usage: 2.3+ MB\n"
     ]
    }
   ],
   "source": [
    "# getting the overall information about the data\n",
    "\n",
    "df.info()"
   ]
  },
  {
   "cell_type": "markdown",
   "id": "595a9ffe",
   "metadata": {},
   "source": [
    "## Data Cleaning and Preprocessing"
   ]
  },
  {
   "cell_type": "code",
   "execution_count": 10,
   "id": "7b8638ea",
   "metadata": {},
   "outputs": [
    {
     "data": {
      "text/plain": [
       "27269"
      ]
     },
     "execution_count": 10,
     "metadata": {},
     "output_type": "execute_result"
    }
   ],
   "source": [
    "# checking for duplicates in the data\n",
    "\n",
    "df.duplicated().sum()"
   ]
  },
  {
   "cell_type": "code",
   "execution_count": 11,
   "id": "cd0fb70e",
   "metadata": {},
   "outputs": [],
   "source": [
    "# dropping the duplicated datas\n",
    "\n",
    "df = df.drop_duplicates()"
   ]
  },
  {
   "cell_type": "code",
   "execution_count": 12,
   "id": "c9284591",
   "metadata": {},
   "outputs": [],
   "source": [
    "# resetting the index of the DataFrame\n",
    "\n",
    "df.reset_index(drop=True, inplace=True)"
   ]
  },
  {
   "cell_type": "code",
   "execution_count": 13,
   "id": "ed5b02df",
   "metadata": {},
   "outputs": [
    {
     "data": {
      "text/plain": [
       "0"
      ]
     },
     "execution_count": 13,
     "metadata": {},
     "output_type": "execute_result"
    }
   ],
   "source": [
    "df.duplicated().sum()"
   ]
  },
  {
   "cell_type": "code",
   "execution_count": 14,
   "id": "c13c363d",
   "metadata": {},
   "outputs": [
    {
     "data": {
      "text/plain": [
       "title                0\n",
       "price                0\n",
       "size               585\n",
       "price_per_sqft    6793\n",
       "dtype: int64"
      ]
     },
     "execution_count": 14,
     "metadata": {},
     "output_type": "execute_result"
    }
   ],
   "source": [
    "# checking for null values\n",
    "\n",
    "df.isnull().sum()"
   ]
  },
  {
   "cell_type": "markdown",
   "id": "f45f6cd0",
   "metadata": {},
   "source": [
    "### Note\n",
    "- It is clearly noticable that size, price_per_sqft and status columns have empty data in them.\n",
    "- So we will need to remove those empty data so that our ML model works efficiently"
   ]
  },
  {
   "cell_type": "markdown",
   "id": "4939e06e",
   "metadata": {},
   "source": [
    "### Filling up the null values in the size column"
   ]
  },
  {
   "cell_type": "code",
   "execution_count": 15,
   "id": "7d290cd8",
   "metadata": {},
   "outputs": [],
   "source": [
    "#replacing the \" sqrt\" term from the size column\n",
    "\n",
    "df['size'] = df['size'].str.replace(' sqft| Sq.Ft.', '')"
   ]
  },
  {
   "cell_type": "code",
   "execution_count": 16,
   "id": "dca85bc9",
   "metadata": {},
   "outputs": [
    {
     "data": {
      "text/plain": [
       "0        2037 \n",
       "1        1240 \n",
       "2        2000 \n",
       "3        1641 \n",
       "4         957 \n",
       "         ...  \n",
       "46934      NaN\n",
       "46935      NaN\n",
       "46936      NaN\n",
       "46937      NaN\n",
       "46938      NaN\n",
       "Name: size, Length: 46939, dtype: object"
      ]
     },
     "execution_count": 16,
     "metadata": {},
     "output_type": "execute_result"
    }
   ],
   "source": [
    "df['size']"
   ]
  },
  {
   "cell_type": "code",
   "execution_count": 17,
   "id": "5ded7d4a",
   "metadata": {},
   "outputs": [
    {
     "name": "stdout",
     "output_type": "stream",
     "text": [
      "1834.322173615451\n"
     ]
    }
   ],
   "source": [
    "# Convert the column to a numeric data type\n",
    "df['size'] = pd.to_numeric(df['size'], errors='coerce')\n",
    "\n",
    "# Calculate the mean, excluding NaN values\n",
    "column_mean = df['size'].mean(skipna=True)\n",
    "\n",
    "# Checking the mean value\n",
    "print(column_mean)"
   ]
  },
  {
   "cell_type": "code",
   "execution_count": 18,
   "id": "047f2fff",
   "metadata": {},
   "outputs": [],
   "source": [
    "df['size'].fillna(column_mean, inplace=True)"
   ]
  },
  {
   "cell_type": "code",
   "execution_count": 19,
   "id": "f98a0eaf",
   "metadata": {},
   "outputs": [
    {
     "data": {
      "text/plain": [
       "title                0\n",
       "price                0\n",
       "size                 0\n",
       "price_per_sqft    6793\n",
       "dtype: int64"
      ]
     },
     "execution_count": 19,
     "metadata": {},
     "output_type": "execute_result"
    }
   ],
   "source": [
    "df.isnull().sum()"
   ]
  },
  {
   "cell_type": "markdown",
   "id": "c7d2ad0e",
   "metadata": {},
   "source": [
    "### Converting word price to numeric values"
   ]
  },
  {
   "cell_type": "code",
   "execution_count": 20,
   "id": "fdeab7f1",
   "metadata": {},
   "outputs": [],
   "source": [
    "df['price'] = df['price'].astype(str)"
   ]
  },
  {
   "cell_type": "code",
   "execution_count": 21,
   "id": "3f772b47",
   "metadata": {},
   "outputs": [],
   "source": [
    "df['price'] = df['price'].str.replace('₹', '')"
   ]
  },
  {
   "cell_type": "code",
   "execution_count": 22,
   "id": "7e7d64aa",
   "metadata": {},
   "outputs": [],
   "source": [
    "def convert_value(value):\n",
    "    if 'Cr' in value:\n",
    "        return float(value.replace(' Cr', '')) * 10000000\n",
    "    elif 'Lac' in value:\n",
    "        return float(value.replace(' Lac', '')) * 100000\n",
    "    elif 'L' in value:\n",
    "        return float(value.replace(' L', '')) * 100000\n",
    "    elif 'ac' in value:\n",
    "        return float(value.replace('ac', '')) * 100000\n",
    "    elif 'Call for Price' in value:\n",
    "        return float(value.replace('Call for Price', '0')) * 0\n",
    "    elif 'Price on Request' in value:\n",
    "        return float(value.replace('Price on Request', '0')) * 0\n",
    "    else:\n",
    "        return float(value)\n",
    "\n",
    "pd.options.display.float_format = '{:.2f}'.format\n",
    "df['price'] = df['price'].apply(convert_value)"
   ]
  },
  {
   "cell_type": "code",
   "execution_count": 23,
   "id": "ed0964d0",
   "metadata": {},
   "outputs": [
    {
     "data": {
      "text/html": [
       "<div>\n",
       "<style scoped>\n",
       "    .dataframe tbody tr th:only-of-type {\n",
       "        vertical-align: middle;\n",
       "    }\n",
       "\n",
       "    .dataframe tbody tr th {\n",
       "        vertical-align: top;\n",
       "    }\n",
       "\n",
       "    .dataframe thead th {\n",
       "        text-align: right;\n",
       "    }\n",
       "</style>\n",
       "<table border=\"1\" class=\"dataframe\">\n",
       "  <thead>\n",
       "    <tr style=\"text-align: right;\">\n",
       "      <th></th>\n",
       "      <th>title</th>\n",
       "      <th>price</th>\n",
       "      <th>size</th>\n",
       "      <th>price_per_sqft</th>\n",
       "    </tr>\n",
       "  </thead>\n",
       "  <tbody>\n",
       "    <tr>\n",
       "      <th>0</th>\n",
       "      <td>3 BHK Apartment in CasaGrand Casagrand Meridian</td>\n",
       "      <td>11800000.00</td>\n",
       "      <td>2037.00</td>\n",
       "      <td>5,793 / sq ft</td>\n",
       "    </tr>\n",
       "    <tr>\n",
       "      <th>1</th>\n",
       "      <td>2 BHK Apartment in Shree Nandana Elite</td>\n",
       "      <td>5756000.00</td>\n",
       "      <td>1240.00</td>\n",
       "      <td>4,642 / sq ft</td>\n",
       "    </tr>\n",
       "    <tr>\n",
       "      <th>2</th>\n",
       "      <td>Residential Plot in Saroj Whispering Winds</td>\n",
       "      <td>3230000.00</td>\n",
       "      <td>2000.00</td>\n",
       "      <td>1,615 / sq ft</td>\n",
       "    </tr>\n",
       "  </tbody>\n",
       "</table>\n",
       "</div>"
      ],
      "text/plain": [
       "                                             title       price    size  \\\n",
       "0  3 BHK Apartment in CasaGrand Casagrand Meridian 11800000.00 2037.00   \n",
       "1           2 BHK Apartment in Shree Nandana Elite  5756000.00 1240.00   \n",
       "2       Residential Plot in Saroj Whispering Winds  3230000.00 2000.00   \n",
       "\n",
       "  price_per_sqft  \n",
       "0  5,793 / sq ft  \n",
       "1  4,642 / sq ft  \n",
       "2  1,615 / sq ft  "
      ]
     },
     "execution_count": 23,
     "metadata": {},
     "output_type": "execute_result"
    }
   ],
   "source": [
    "df.head(3)"
   ]
  },
  {
   "cell_type": "code",
   "execution_count": 24,
   "id": "b1eeb1ae",
   "metadata": {},
   "outputs": [],
   "source": [
    "# df.info()"
   ]
  },
  {
   "cell_type": "markdown",
   "id": "752b3fbb",
   "metadata": {},
   "source": [
    "### Preprocessing the price_per_sqft column of the DataFrame"
   ]
  },
  {
   "cell_type": "code",
   "execution_count": 25,
   "id": "57ee8f03",
   "metadata": {},
   "outputs": [],
   "source": [
    "#removing the unnecessary symbols\n",
    "\n",
    "df['price_per_sqft'] = df['price_per_sqft'].str.replace(' / sq ft', '')\n",
    "df['price_per_sqft'] = df['price_per_sqft'].str.replace(' per sqft', '')\n",
    "df['price_per_sqft'] = df['price_per_sqft'].str.replace('₹', '')\n",
    "df['price_per_sqft'] = df['price_per_sqft'].str.replace(',', '')"
   ]
  },
  {
   "cell_type": "code",
   "execution_count": 26,
   "id": "6608b30a",
   "metadata": {},
   "outputs": [],
   "source": [
    "#calculating the price_per_sqft to fill in the null values\n",
    "\n",
    "def calculate_price_per_sqft(row):\n",
    "    if pd.isna(row['price_per_sqft']):\n",
    "        if row['price'] == 0:\n",
    "            return 0\n",
    "        else:\n",
    "            return row['price'] / row['size']\n",
    "    else:\n",
    "        return row['price_per_sqft']\n",
    "\n",
    "pd.options.display.float_format = '{:.2f}'.format\n",
    "df['price_per_sqft'] = df.apply(calculate_price_per_sqft, axis=1)\n"
   ]
  },
  {
   "cell_type": "code",
   "execution_count": 27,
   "id": "573e4812",
   "metadata": {},
   "outputs": [],
   "source": [
    "#converting price_per_sqft to float Dtype\n",
    "\n",
    "df['price_per_sqft']=df['price_per_sqft'].astype(float)"
   ]
  },
  {
   "cell_type": "code",
   "execution_count": 28,
   "id": "9e6c30f5",
   "metadata": {},
   "outputs": [
    {
     "name": "stdout",
     "output_type": "stream",
     "text": [
      "<class 'pandas.core.frame.DataFrame'>\n",
      "RangeIndex: 46939 entries, 0 to 46938\n",
      "Data columns (total 4 columns):\n",
      " #   Column          Non-Null Count  Dtype  \n",
      "---  ------          --------------  -----  \n",
      " 0   title           46939 non-null  object \n",
      " 1   price           46939 non-null  float64\n",
      " 2   size            46939 non-null  float64\n",
      " 3   price_per_sqft  46939 non-null  float64\n",
      "dtypes: float64(3), object(1)\n",
      "memory usage: 1.4+ MB\n"
     ]
    }
   ],
   "source": [
    "df.info()"
   ]
  },
  {
   "cell_type": "markdown",
   "id": "f4ed5a6b",
   "metadata": {},
   "source": [
    "- <b><i> after bringing all the data to the standard format, we will check for duplicates again </i> </b>"
   ]
  },
  {
   "cell_type": "code",
   "execution_count": 29,
   "id": "b0d76e8c",
   "metadata": {},
   "outputs": [
    {
     "data": {
      "text/plain": [
       "1201"
      ]
     },
     "execution_count": 29,
     "metadata": {},
     "output_type": "execute_result"
    }
   ],
   "source": [
    "df.duplicated().sum()"
   ]
  },
  {
   "cell_type": "code",
   "execution_count": 30,
   "id": "850d8cc4",
   "metadata": {},
   "outputs": [],
   "source": [
    "# dropping the duplicates\n",
    "df = df.drop_duplicates()"
   ]
  },
  {
   "cell_type": "markdown",
   "id": "e281c560",
   "metadata": {},
   "source": [
    "### Saving the processed and clean data into another excel sheet"
   ]
  },
  {
   "cell_type": "code",
   "execution_count": 31,
   "id": "b0b671a7",
   "metadata": {},
   "outputs": [],
   "source": [
    "# df.to_excel('processed_data.xlsx')"
   ]
  }
 ],
 "metadata": {
  "kernelspec": {
   "display_name": "Python 3 (ipykernel)",
   "language": "python",
   "name": "python3"
  },
  "language_info": {
   "codemirror_mode": {
    "name": "ipython",
    "version": 3
   },
   "file_extension": ".py",
   "mimetype": "text/x-python",
   "name": "python",
   "nbconvert_exporter": "python",
   "pygments_lexer": "ipython3",
   "version": "3.9.7"
  }
 },
 "nbformat": 4,
 "nbformat_minor": 5
}
